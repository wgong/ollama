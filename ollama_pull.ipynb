{
 "cells": [
  {
   "cell_type": "code",
   "execution_count": 1,
   "id": "be80d5c8",
   "metadata": {},
   "outputs": [],
   "source": [
    "pull_str = \"\"\"\n",
    "Neural Chat\t7B\t4.1GB\tollama run neural-chat\n",
    "Starling\t7B\t4.1GB\tollama run starling-lm\n",
    "Mistral\t7B\t4.1GB\tollama run mistral\n",
    "Llama 2\t7B\t3.8GB\tollama run llama2\n",
    "Code Llama\t7B\t3.8GB\tollama run codellama\n",
    "Llama 2 Uncensored\t7B\t3.8GB\tollama run llama2-uncensored\n",
    "Llama 2 13B\t13B\t7.3GB\tollama run llama2:13b\n",
    "Llama 2 70B\t70B\t39GB\tollama run llama2:70b\n",
    "Orca Mini\t3B\t1.9GB\tollama run orca-mini\n",
    "Vicuna\t7B\t3.8GB\tollama run vicuna\n",
    "LLaVA\t7B\t4.5GB\tollama run llava\n",
    "\"\"\""
   ]
  },
  {
   "cell_type": "code",
   "execution_count": 2,
   "id": "d674cc97",
   "metadata": {},
   "outputs": [],
   "source": [
    "llms = [i.strip().split()[-1] for i in pull_str.split(\"\\n\") if i.strip()]"
   ]
  },
  {
   "cell_type": "code",
   "execution_count": 3,
   "id": "cafc6591",
   "metadata": {},
   "outputs": [
    {
     "data": {
      "text/plain": [
       "['neural-chat',\n",
       " 'starling-lm',\n",
       " 'mistral',\n",
       " 'llama2',\n",
       " 'codellama',\n",
       " 'llama2-uncensored',\n",
       " 'llama2:13b',\n",
       " 'llama2:70b',\n",
       " 'orca-mini',\n",
       " 'vicuna',\n",
       " 'llava']"
      ]
     },
     "execution_count": 3,
     "metadata": {},
     "output_type": "execute_result"
    }
   ],
   "source": [
    "llms"
   ]
  },
  {
   "cell_type": "code",
   "execution_count": 5,
   "id": "711d00dd",
   "metadata": {},
   "outputs": [
    {
     "name": "stdout",
     "output_type": "stream",
     "text": [
      "ollama pull neural-chat\n",
      "ollama pull starling-lm\n",
      "ollama pull mistral\n",
      "ollama pull llama2\n",
      "ollama pull codellama\n",
      "ollama pull llama2-uncensored\n",
      "ollama pull llama2:13b\n",
      "ollama pull llama2:70b\n",
      "ollama pull orca-mini\n",
      "ollama pull vicuna\n",
      "ollama pull llava\n"
     ]
    }
   ],
   "source": [
    "cmd = [f\"ollama pull {m}\" for m in llms]\n",
    "print(f\"\\n\".join(cmd))"
   ]
  },
  {
   "cell_type": "code",
   "execution_count": 7,
   "id": "f600eec3",
   "metadata": {},
   "outputs": [],
   "source": [
    "with open(\"ollama_pull.sh\", \"w\") as f:\n",
    "    f.write(f\"\\n\".join(cmd))"
   ]
  },
  {
   "cell_type": "code",
   "execution_count": null,
   "id": "9902c015",
   "metadata": {},
   "outputs": [
    {
     "name": "stdout",
     "output_type": "stream",
     "text": [
      "\u001b7\u001b[?47h\u001b[?1h\u001b=\r",
      "ollama pull neural-chat\r\n",
      "ollama pull starling-lm\r\n",
      "ollama pull mistral\r\n",
      "ollama pull llama2\r\n",
      "ollama pull codellama\r\n",
      "ollama pull llama2-uncensored\r\n",
      "ollama pull llama2:13b\r\n",
      "ollama pull llama2:70b\r\n",
      "ollama pull orca-mini\r\n",
      "ollama pull vicuna\r\n",
      "ollama pull llava\r\n",
      "\u001b[7mollama_pull.sh (END)\u001b[m\u001b[K"
     ]
    }
   ],
   "source": [
    "!less ollama_pull.sh"
   ]
  },
  {
   "cell_type": "code",
   "execution_count": null,
   "id": "09f58f8c",
   "metadata": {},
   "outputs": [],
   "source": []
  }
 ],
 "metadata": {
  "kernelspec": {
   "display_name": "Python 3 (ipykernel)",
   "language": "python",
   "name": "python3"
  },
  "language_info": {
   "codemirror_mode": {
    "name": "ipython",
    "version": 3
   },
   "file_extension": ".py",
   "mimetype": "text/x-python",
   "name": "python",
   "nbconvert_exporter": "python",
   "pygments_lexer": "ipython3",
   "version": "3.11.5"
  }
 },
 "nbformat": 4,
 "nbformat_minor": 5
}
