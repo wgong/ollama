{
 "cells": [
  {
   "cell_type": "markdown",
   "id": "8a21909c-c24c-44c4-b257-5e9e795c8307",
   "metadata": {},
   "source": [
    "https://docs.llamaindex.ai/en/stable/examples/llm/ollama.html"
   ]
  },
  {
   "cell_type": "markdown",
   "id": "936e3faa-073d-4cd7-9b4e-abcaa5121c8d",
   "metadata": {},
   "source": [
    "### Completion"
   ]
  },
  {
   "cell_type": "code",
   "execution_count": 1,
   "id": "8fef5c53-c3b3-4fc0-82f9-1742d2519a22",
   "metadata": {},
   "outputs": [],
   "source": [
    "from llama_index.llms import Ollama"
   ]
  },
  {
   "cell_type": "code",
   "execution_count": 3,
   "id": "314c477d-02b9-4898-9b6b-4c5a78ecab60",
   "metadata": {},
   "outputs": [],
   "source": [
    "model_name = \"mistral-openorca\"  # \"llama2\""
   ]
  },
  {
   "cell_type": "code",
   "execution_count": 4,
   "id": "9780d5e7-7966-4eb3-95f6-ab54318dd0a5",
   "metadata": {},
   "outputs": [],
   "source": [
    "llm = Ollama(model=model_name)"
   ]
  },
  {
   "cell_type": "code",
   "execution_count": 5,
   "id": "d3357244-4b71-450c-8c26-66fe547c930a",
   "metadata": {},
   "outputs": [],
   "source": [
    "resp = llm.complete(\"Who is Paul Graham?\")"
   ]
  },
  {
   "cell_type": "code",
   "execution_count": 6,
   "id": "8fdc3c9b-b650-4ce5-b8c5-f3c6a680efc2",
   "metadata": {},
   "outputs": [
    {
     "data": {
      "text/plain": [
       "llama_index.llms.types.CompletionResponse"
      ]
     },
     "execution_count": 6,
     "metadata": {},
     "output_type": "execute_result"
    }
   ],
   "source": [
    "type(resp)"
   ]
  },
  {
   "cell_type": "code",
   "execution_count": 7,
   "id": "4eb0e350-f625-4301-b800-4aa01bdee832",
   "metadata": {},
   "outputs": [
    {
     "name": "stdout",
     "output_type": "stream",
     "text": [
      " Paul Graham is a prominent American programmer, entrepreneur, and venture capitalist. He co-founded the startup incubator Y Combinator in 2005, which has since become one of the most influential organizations in the technology industry, helping launch numerous successful companies such as Airbnb, Dropbox, and Stripe. Prior to founding Y Combinator, Graham was a computer programmer and a researcher at Artificial Intelligence Research (AIR) Laboratory at MIT. He is also known for his essays on programming, startups, and other technology-related topics that have had a significant impact on the industry.\n"
     ]
    }
   ],
   "source": [
    "print(resp)"
   ]
  },
  {
   "cell_type": "code",
   "execution_count": 8,
   "id": "727cf74b-8560-4511-903d-5009ddefb6db",
   "metadata": {},
   "outputs": [
    {
     "data": {
      "text/plain": [
       "' Paul Graham is a prominent American programmer, entrepreneur, and venture capitalist. He co-founded the startup incubator Y Combinator in 2005, which has since become one of the most influential organizations in the technology industry, helping launch numerous successful companies such as Airbnb, Dropbox, and Stripe. Prior to founding Y Combinator, Graham was a computer programmer and a researcher at Artificial Intelligence Research (AIR) Laboratory at MIT. He is also known for his essays on programming, startups, and other technology-related topics that have had a significant impact on the industry.'"
      ]
     },
     "execution_count": 8,
     "metadata": {},
     "output_type": "execute_result"
    }
   ],
   "source": [
    "resp.text"
   ]
  },
  {
   "cell_type": "markdown",
   "id": "9729a68a-cc88-4684-b504-2e625ffeb337",
   "metadata": {},
   "source": [
    "### Call chat with a list of messages"
   ]
  },
  {
   "cell_type": "code",
   "execution_count": 9,
   "id": "68cd610f-e854-4901-8a23-e471fd096929",
   "metadata": {},
   "outputs": [],
   "source": [
    "from llama_index.llms import ChatMessage\n",
    "\n",
    "messages = [\n",
    "    ChatMessage(\n",
    "        role=\"system\", content=\"You are a pirate with a colorful personality\"\n",
    "    ),\n",
    "    ChatMessage(role=\"user\", content=\"What is your name\"),\n",
    "]\n",
    "resp = llm.chat(messages)"
   ]
  },
  {
   "cell_type": "code",
   "execution_count": 10,
   "id": "728b42ec-2d64-4425-9727-be5760d5d9f2",
   "metadata": {},
   "outputs": [
    {
     "data": {
      "text/plain": [
       "llama_index.llms.types.ChatResponse"
      ]
     },
     "execution_count": 10,
     "metadata": {},
     "output_type": "execute_result"
    }
   ],
   "source": [
    "type(resp)"
   ]
  },
  {
   "cell_type": "code",
   "execution_count": 11,
   "id": "4020b600-e399-4ab5-b83b-35eaf8aef4b4",
   "metadata": {},
   "outputs": [
    {
     "data": {
      "text/plain": [
       "ChatMessage(role=<MessageRole.ASSISTANT: 'assistant'>, content=' My name is Captain Scarlett Flintbeard.', additional_kwargs={'images': None})"
      ]
     },
     "execution_count": 11,
     "metadata": {},
     "output_type": "execute_result"
    }
   ],
   "source": [
    "resp.message"
   ]
  },
  {
   "cell_type": "code",
   "execution_count": 12,
   "id": "e53592db-bea1-47a7-88ef-f41459f5d8db",
   "metadata": {},
   "outputs": [
    {
     "name": "stdout",
     "output_type": "stream",
     "text": [
      "assistant:  My name is Captain Scarlett Flintbeard.\n"
     ]
    }
   ],
   "source": [
    "print(resp)"
   ]
  },
  {
   "cell_type": "code",
   "execution_count": 13,
   "id": "49175786-4773-4bf4-ac2d-2904fc231f87",
   "metadata": {},
   "outputs": [
    {
     "name": "stdout",
     "output_type": "stream",
     "text": [
      "assistant:  Sure, here's a Python function to compute Fibonacci numbers less than 100:\n",
      "\n",
      "```python\n",
      "def fibonacci_less_than_100():\n",
      "    result = []\n",
      "    a, b = 0, 1\n",
      "    while b < 100:\n",
      "        result.append(b)\n",
      "        a, b = b, a + b\n",
      "    return result\n",
      "```\n",
      "\n",
      "You can use this function like so:\n",
      "\n",
      "```python\n",
      "fib_numbers = fibonacci_less_than_100()\n",
      "print(fib_numbers)  # Output: [1, 1, 2, 3, 5, 8, 13, 21, 34, 55, 89]\n",
      "```\n"
     ]
    }
   ],
   "source": [
    "messages = [\n",
    "    ChatMessage(\n",
    "        role=\"system\", content=\"You are an exceptional python programmer\"\n",
    "    ),\n",
    "    ChatMessage(role=\"user\", content=\"Can you write a function to compute fibonacci numbers less than 100\"),\n",
    "]\n",
    "resp = llm.chat(messages)\n",
    "print(resp)"
   ]
  },
  {
   "cell_type": "code",
   "execution_count": 14,
   "id": "1470b559-94df-4523-b765-93a39da31b85",
   "metadata": {},
   "outputs": [
    {
     "name": "stdout",
     "output_type": "stream",
     "text": [
      "0\n",
      "1\n",
      "1\n",
      "2\n",
      "3\n",
      "5\n",
      "8\n",
      "13\n",
      "21\n",
      "34\n",
      "55\n",
      "89\n"
     ]
    }
   ],
   "source": [
    "def fibonacci_less_than_100(n):\n",
    "    a, b = 0, 1\n",
    "    while a < n:\n",
    "        yield a\n",
    "        a, b = b, a + b\n",
    "\n",
    "for number in fibonacci_less_than_100(100):\n",
    "    print(number)"
   ]
  },
  {
   "cell_type": "code",
   "execution_count": 15,
   "id": "177c9e77-57c6-47b0-a1b6-53467b6ca363",
   "metadata": {},
   "outputs": [],
   "source": [
    "def fibonacci_less_than(n):\n",
    "    result = []\n",
    "    a, b = 0, 1\n",
    "    while b < n:\n",
    "        result.append(b)\n",
    "        a, b = b, a + b\n",
    "    return result"
   ]
  },
  {
   "cell_type": "code",
   "execution_count": 16,
   "id": "2f4c2e55-706a-4c25-b430-7ef89ed2200a",
   "metadata": {},
   "outputs": [
    {
     "name": "stdout",
     "output_type": "stream",
     "text": [
      "[1, 1, 2, 3, 5, 8, 13, 21, 34, 55, 89]\n"
     ]
    }
   ],
   "source": [
    "fib_numbers = fibonacci_less_than(100)\n",
    "print(fib_numbers)  # Output: [1, 1, 2, 3, 5, 8, 13, 21, 34, 55, 89]"
   ]
  },
  {
   "cell_type": "markdown",
   "id": "a66a2d27-1a8a-49c8-b405-d28d09cfd65e",
   "metadata": {},
   "source": [
    "### Streaming"
   ]
  },
  {
   "cell_type": "code",
   "execution_count": 17,
   "id": "47589998-31a1-4241-ab2f-d73dc9071947",
   "metadata": {},
   "outputs": [
    {
     "name": "stdout",
     "output_type": "stream",
     "text": [
      " Paul Graham is an American computer programmer, entrepreneur, and venture capitalist. He is best known as the co-founder of Y Combinator, a prestigious startup incubator based in Silicon Valley that helps early-stage startups grow and develop their businesses through mentorship, funding, and networking opportunities.\n",
      "\n",
      "Before founding Y Combinator, Paul Graham was a prominent computer scientist, known for his work on Lisp programming languages. He also co-founded Viaweb, an early web-based system for creating online stores, which was later acquired by Yahoo in 1998.\n",
      "\n",
      "In addition to his entrepreneurial pursuits, Paul Graham is also a prolific writer and thinker who shares his insights on startups, technology, and entrepreneurship through essays published on his website and various media outlets."
     ]
    }
   ],
   "source": [
    "resp = llm.stream_complete(\"Who is Paul Graham?\")\n",
    "for r in resp:\n",
    "    print(r.delta, end=\"\")"
   ]
  },
  {
   "cell_type": "code",
   "execution_count": 19,
   "id": "c20ee542-96c5-4f3b-93a2-955ffefece53",
   "metadata": {},
   "outputs": [],
   "source": [
    "messages = [\n",
    "    ChatMessage(\n",
    "        role=\"system\", content=\"You are an exceptional python programmer\"\n",
    "    ),\n",
    "    ChatMessage(role=\"user\", content=\"Can you write a function to compute fibonacci numbers which are less than N where N is an integer\"),\n",
    "]\n",
    "resp = llm.chat(messages)"
   ]
  },
  {
   "cell_type": "code",
   "execution_count": 21,
   "id": "3206f703-52a8-4b33-824c-170dc97f3329",
   "metadata": {},
   "outputs": [
    {
     "name": "stdout",
     "output_type": "stream",
     "text": [
      "('message', ChatMessage(role=<MessageRole.ASSISTANT: 'assistant'>, content=\" Sure, here's a Python function to compute Fibonacci numbers that are less than or equal to N:\\n\\n```python\\ndef fibonacci_less_than(n):\\n    a, b = 0, 1\\n    while b <= n:\\n        yield b\\n        a, b = b, a + b\\n\\nfor number in fibonacci_less_than(20):\\n    print(number)\\n```\\n\\nThis function uses a generator to compute Fibonacci numbers using the recurrence relation, and yields them until one is greater than `n`. The code above prints all the Fibonacci numbers less than or equal to 20.\", additional_kwargs={'images': None}))\n",
      "('raw', {'model': 'mistral-openorca', 'created_at': '2024-01-06T02:42:28.676458858Z', 'message': {'role': 'assistant', 'content': \" Sure, here's a Python function to compute Fibonacci numbers that are less than or equal to N:\\n\\n```python\\ndef fibonacci_less_than(n):\\n    a, b = 0, 1\\n    while b <= n:\\n        yield b\\n        a, b = b, a + b\\n\\nfor number in fibonacci_less_than(20):\\n    print(number)\\n```\\n\\nThis function uses a generator to compute Fibonacci numbers using the recurrence relation, and yields them until one is greater than `n`. The code above prints all the Fibonacci numbers less than or equal to 20.\", 'images': None}, 'done': True, 'total_duration': 3017344897, 'load_duration': 455099, 'prompt_eval_count': 44, 'prompt_eval_duration': 218285000, 'eval_count': 150, 'eval_duration': 2797627000})\n",
      "('delta', None)\n",
      "('additional_kwargs', {'model': 'mistral-openorca', 'created_at': '2024-01-06T02:42:28.676458858Z', 'done': True, 'total_duration': 3017344897, 'load_duration': 455099, 'prompt_eval_count': 44, 'prompt_eval_duration': 218285000, 'eval_count': 150, 'eval_duration': 2797627000})\n"
     ]
    }
   ],
   "source": [
    "for r in resp:\n",
    "    print(r)"
   ]
  },
  {
   "cell_type": "code",
   "execution_count": 22,
   "id": "24aae315-f179-44ba-b629-d45eceab3e26",
   "metadata": {},
   "outputs": [
    {
     "name": "stdout",
     "output_type": "stream",
     "text": [
      "assistant:  Sure, here's a Python function to compute Fibonacci numbers that are less than or equal to N:\n",
      "\n",
      "```python\n",
      "def fibonacci_less_than(n):\n",
      "    a, b = 0, 1\n",
      "    while b <= n:\n",
      "        yield b\n",
      "        a, b = b, a + b\n",
      "\n",
      "for number in fibonacci_less_than(20):\n",
      "    print(number)\n",
      "```\n",
      "\n",
      "This function uses a generator to compute Fibonacci numbers using the recurrence relation, and yields them until one is greater than `n`. The code above prints all the Fibonacci numbers less than or equal to 20.\n"
     ]
    }
   ],
   "source": [
    "for r in resp:\n",
    "    if r[0] != 'message': continue\n",
    "    print(r[1])"
   ]
  },
  {
   "cell_type": "code",
   "execution_count": null,
   "id": "061def16-cbaf-4b71-9f86-8ca118facf93",
   "metadata": {},
   "outputs": [],
   "source": []
  }
 ],
 "metadata": {
  "kernelspec": {
   "display_name": "Python 3 (ipykernel)",
   "language": "python",
   "name": "python3"
  },
  "language_info": {
   "codemirror_mode": {
    "name": "ipython",
    "version": 3
   },
   "file_extension": ".py",
   "mimetype": "text/x-python",
   "name": "python",
   "nbconvert_exporter": "python",
   "pygments_lexer": "ipython3",
   "version": "3.10.12"
  }
 },
 "nbformat": 4,
 "nbformat_minor": 5
}
