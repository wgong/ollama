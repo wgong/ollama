{
 "cells": [
  {
   "cell_type": "code",
   "execution_count": 4,
   "id": "eedff284",
   "metadata": {},
   "outputs": [
    {
     "name": "stdout",
     "output_type": "stream",
     "text": [
      "Requirement already satisfied: huggingface_hub in /home/gongai/anaconda3/lib/python3.11/site-packages (0.15.1)\n",
      "Collecting huggingface_hub\n",
      "  Obtaining dependency information for huggingface_hub from https://files.pythonhosted.org/packages/3d/0a/aed3253a9ce63d9c90829b1d36bc44ad966499ff4f5827309099c8c9184b/huggingface_hub-0.20.2-py3-none-any.whl.metadata\n",
      "  Downloading huggingface_hub-0.20.2-py3-none-any.whl.metadata (12 kB)\n",
      "Requirement already satisfied: filelock in /home/gongai/anaconda3/lib/python3.11/site-packages (from huggingface_hub) (3.9.0)\n",
      "Collecting fsspec>=2023.5.0 (from huggingface_hub)\n",
      "  Obtaining dependency information for fsspec>=2023.5.0 from https://files.pythonhosted.org/packages/70/25/fab23259a52ece5670dcb8452e1af34b89e6135ecc17cd4b54b4b479eac6/fsspec-2023.12.2-py3-none-any.whl.metadata\n",
      "  Downloading fsspec-2023.12.2-py3-none-any.whl.metadata (6.8 kB)\n",
      "Requirement already satisfied: requests in /home/gongai/anaconda3/lib/python3.11/site-packages (from huggingface_hub) (2.31.0)\n",
      "Requirement already satisfied: tqdm>=4.42.1 in /home/gongai/anaconda3/lib/python3.11/site-packages (from huggingface_hub) (4.65.0)\n",
      "Requirement already satisfied: pyyaml>=5.1 in /home/gongai/anaconda3/lib/python3.11/site-packages (from huggingface_hub) (6.0)\n",
      "Requirement already satisfied: typing-extensions>=3.7.4.3 in /home/gongai/anaconda3/lib/python3.11/site-packages (from huggingface_hub) (4.7.1)\n",
      "Requirement already satisfied: packaging>=20.9 in /home/gongai/anaconda3/lib/python3.11/site-packages (from huggingface_hub) (23.2)\n",
      "Requirement already satisfied: charset-normalizer<4,>=2 in /home/gongai/anaconda3/lib/python3.11/site-packages (from requests->huggingface_hub) (2.0.4)\n",
      "Requirement already satisfied: idna<4,>=2.5 in /home/gongai/anaconda3/lib/python3.11/site-packages (from requests->huggingface_hub) (3.4)\n",
      "Requirement already satisfied: urllib3<3,>=1.21.1 in /home/gongai/anaconda3/lib/python3.11/site-packages (from requests->huggingface_hub) (1.26.16)\n",
      "Requirement already satisfied: certifi>=2017.4.17 in /home/gongai/anaconda3/lib/python3.11/site-packages (from requests->huggingface_hub) (2023.7.22)\n",
      "Downloading huggingface_hub-0.20.2-py3-none-any.whl (330 kB)\n",
      "\u001b[2K   \u001b[38;2;114;156;31m━━━━━━━━━━━━━━━━━━━━━━━━━━━━━━━━━━━━━━━━\u001b[0m \u001b[32m330.3/330.3 kB\u001b[0m \u001b[31m5.3 MB/s\u001b[0m eta \u001b[36m0:00:00\u001b[0m[31m3.9 MB/s\u001b[0m eta \u001b[36m0:00:01\u001b[0m\n",
      "\u001b[?25hUsing cached fsspec-2023.12.2-py3-none-any.whl (168 kB)\n",
      "Installing collected packages: fsspec, huggingface_hub\n",
      "  Attempting uninstall: fsspec\n",
      "    Found existing installation: fsspec 2023.4.0\n",
      "    Uninstalling fsspec-2023.4.0:\n",
      "      Successfully uninstalled fsspec-2023.4.0\n",
      "  Attempting uninstall: huggingface_hub\n",
      "    Found existing installation: huggingface-hub 0.15.1\n",
      "    Uninstalling huggingface-hub-0.15.1:\n",
      "      Successfully uninstalled huggingface-hub-0.15.1\n",
      "\u001b[31mERROR: pip's dependency resolver does not currently take into account all the packages that are installed. This behaviour is the source of the following dependency conflicts.\n",
      "s3fs 2023.4.0 requires fsspec==2023.4.0, but you have fsspec 2023.12.2 which is incompatible.\u001b[0m\u001b[31m\n",
      "\u001b[0mSuccessfully installed fsspec-2023.12.2 huggingface_hub-0.20.2\n"
     ]
    }
   ],
   "source": [
    "!pip install huggingface_hub --upgrade"
   ]
  },
  {
   "cell_type": "raw",
   "id": "ef18691f",
   "metadata": {},
   "source": [
    "# Search for models related to a specific task\n",
    "results = api.search_models(query=\"wizardcoder\")  # search_models unavailable"
   ]
  },
  {
   "cell_type": "code",
   "execution_count": 1,
   "id": "c7d8d71f",
   "metadata": {},
   "outputs": [],
   "source": [
    "from huggingface_hub import HfApi, ModelFilter\n",
    "api = HfApi()\n",
    "task = \"automatic-speech-recognition\""
   ]
  },
  {
   "cell_type": "markdown",
   "id": "baa66646",
   "metadata": {},
   "source": [
    "## HfApi ModelFilter"
   ]
  },
  {
   "cell_type": "code",
   "execution_count": 3,
   "id": "4c865896",
   "metadata": {},
   "outputs": [
    {
     "name": "stdout",
     "output_type": "stream",
     "text": [
      "Found 13785 models for task: automatic-speech-recognition\n"
     ]
    }
   ],
   "source": [
    "models = api.list_models(\n",
    "    filter=ModelFilter(task=task)\n",
    ")\n",
    "models = list(models)\n",
    "print(f\"Found {len(models)} models for task: {task}\")"
   ]
  },
  {
   "cell_type": "code",
   "execution_count": 7,
   "id": "400c15a0",
   "metadata": {},
   "outputs": [
    {
     "name": "stdout",
     "output_type": "stream",
     "text": [
      "Model name: 13048909972/wav2vec2-common_voice-tr-demo\n",
      "Author: 13048909972\n",
      "Library: transformers\n",
      "Likes: 0\n",
      "Link: https://huggingface.co/13048909972/wav2vec2-common_voice-tr-demo\n",
      "-----\n",
      "Model name: 13048909972/wav2vec2-large-xls-r-300m-tr-colab\n",
      "Author: 13048909972\n",
      "Library: transformers\n",
      "Likes: 0\n",
      "Link: https://huggingface.co/13048909972/wav2vec2-large-xls-r-300m-tr-colab\n",
      "-----\n",
      "Model name: 13048909972/wav2vec2-large-xlsr-53_common_voice_20211211085606\n",
      "Author: 13048909972\n",
      "Library: transformers\n",
      "Likes: 0\n",
      "Link: https://huggingface.co/13048909972/wav2vec2-large-xlsr-53_common_voice_20211211085606\n",
      "-----\n",
      "Model name: 202015004/wav2vec2-base-timit-demo-colab\n",
      "Author: 202015004\n",
      "Library: transformers\n",
      "Likes: 0\n",
      "Link: https://huggingface.co/202015004/wav2vec2-base-timit-demo-colab\n",
      "-----\n",
      "Model name: 275Gameplay/test\n",
      "Author: 275Gameplay\n",
      "Library: transformers\n",
      "Likes: 0\n",
      "Link: https://huggingface.co/275Gameplay/test\n",
      "-----\n"
     ]
    }
   ],
   "source": [
    "# Print the details of the first 5 results\n",
    "for model in models[:5]:\n",
    "    print(f\"Model name: {model.modelId}\")\n",
    "    print(f\"Author: {model.author}\")\n",
    "    print(f\"Library: {model.library_name}\")\n",
    "    print(f\"Likes: {model.likes}\")\n",
    "    print(f\"Link: https://huggingface.co/{model.modelId}\")\n",
    "    print(\"-----\")"
   ]
  },
  {
   "cell_type": "markdown",
   "id": "94bcb3ab",
   "metadata": {},
   "source": [
    "## Model full-text search\n",
    "\n",
    "https://huggingface.co/search/full-text?q=codeup&type=model"
   ]
  },
  {
   "cell_type": "code",
   "execution_count": 23,
   "id": "b1101986",
   "metadata": {},
   "outputs": [],
   "source": [
    "CATEGORY_DICT = {\n",
    "    # category_name : list of keywords (lower-cased)\n",
    "    \"code\": [\"sql\", \"code\", \"coder\", \"coding\", \"programming\",],\n",
    "    \"chinese\": [\"chinese\", \"bilingual\",],\n",
    "    \"medical\": [\"medical\", \"medicine\",],\n",
    "    \"math\": [\"math\",],\n",
    "    \"logic\": [\"logic\", \"reason\",],\n",
    "} \n",
    "\n",
    "\n",
    "def categorize_it(desc, cat_dic=CATEGORY_DICT) -> str:\n",
    "    \"\"\"fixed categorization based on keyworkds\n",
    "    Split description into words and check if words startwith keywork found in cat_dic\n",
    "    \n",
    "    Returns:\n",
    "        comma-sep category names\n",
    "    \"\"\"\n",
    "    res = set()\n",
    "    words = desc.lower().split()\n",
    "    for w in words:\n",
    "        for c in cat_dic.keys():\n",
    "            for kw in cat_dic[c]:\n",
    "                if w.startswith(kw):\n",
    "                    res.add(c)\n",
    "    return \", \".join(sorted(list(res))) if res else \"\""
   ]
  },
  {
   "cell_type": "code",
   "execution_count": 24,
   "id": "96f2d24e",
   "metadata": {},
   "outputs": [
    {
     "name": "stdout",
     "output_type": "stream",
     "text": [
      "[In] \tAn advanced language model crafted with 2 trillion bilingual tokens.\n",
      "[Out] chinese\n",
      "[In] Open-source medical large language model adapted from Llama 2 to the medical domain.\n",
      "[Out] medical\n",
      "[In] SQLCoder is a code completion model fined-tuned on StarCoder for SQL generation tasks\n",
      "[Out] code\n",
      "[In] An expansion of Llama 2 that specializes in integrating both general language understanding and domain-specific knowledge, particularly in programming and mathematics.\n",
      "[Out] code, math\n"
     ]
    }
   ],
   "source": [
    "test_cases = [\n",
    "    \"\tAn advanced language model crafted with 2 trillion bilingual tokens.\",\n",
    "    \"Open-source medical large language model adapted from Llama 2 to the medical domain.\",\n",
    "    \"SQLCoder is a code completion model fined-tuned on StarCoder for SQL generation tasks\",\n",
    "    \"An expansion of Llama 2 that specializes in integrating both general language understanding and domain-specific knowledge, particularly in programming and mathematics.\"\n",
    "]\n",
    "\n",
    "for desc in test_cases: \n",
    "    print(f\"[In] {desc}\\n[Out] {categorize_it(desc)}\")"
   ]
  },
  {
   "cell_type": "code",
   "execution_count": null,
   "id": "80ed832b",
   "metadata": {},
   "outputs": [],
   "source": []
  }
 ],
 "metadata": {
  "kernelspec": {
   "display_name": "Python 3 (ipykernel)",
   "language": "python",
   "name": "python3"
  },
  "language_info": {
   "codemirror_mode": {
    "name": "ipython",
    "version": 3
   },
   "file_extension": ".py",
   "mimetype": "text/x-python",
   "name": "python",
   "nbconvert_exporter": "python",
   "pygments_lexer": "ipython3",
   "version": "3.11.5"
  }
 },
 "nbformat": 4,
 "nbformat_minor": 5
}
