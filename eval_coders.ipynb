{
 "cells": [
  {
   "cell_type": "code",
   "execution_count": 1,
   "id": "ea918e46",
   "metadata": {},
   "outputs": [
    {
     "name": "stdout",
     "output_type": "stream",
     "text": [
      "Enter the upper limit for Fibonacci numbers: 100\n",
      "0\n",
      "1\n",
      "1\n",
      "2\n",
      "3\n",
      "5\n",
      "8\n",
      "13\n",
      "21\n",
      "34\n",
      "55\n",
      "89\n"
     ]
    }
   ],
   "source": [
    "# Bard\n",
    "def fibonacci_numbers_under(limit):\n",
    "    \"\"\"Generates Fibonacci numbers less than the given limit.\"\"\"\n",
    "    a, b = 0, 1\n",
    "    while a < limit:\n",
    "        yield a\n",
    "        a, b = b, a + b\n",
    "\n",
    "# Get the limit from the user\n",
    "user_limit = int(input(\"Enter the upper limit for Fibonacci numbers: \"))\n",
    "\n",
    "# Call the function with the user-provided limit\n",
    "for num in fibonacci_numbers_under(user_limit):\n",
    "    print(num)"
   ]
  },
  {
   "cell_type": "code",
   "execution_count": 2,
   "id": "487d1708",
   "metadata": {},
   "outputs": [
    {
     "name": "stdout",
     "output_type": "stream",
     "text": [
      "[0, 1, 1, 2, 3, 5, 8, 13, 21, 34, 55, 89]\n"
     ]
    }
   ],
   "source": [
    "# magicoder\n",
    "def fibonacci_numbers(n):\n",
    "    # Initialize the first two Fibonacci numbers\n",
    "    nums = [0, 1]\n",
    "    \n",
    "    while True:\n",
    "        # Calculate the next Fibonacci number\n",
    "        new_num = nums[-2] + nums[-1]\n",
    "        \n",
    "        # If it's bigger than n, stop adding more numbers\n",
    "        if new_num > n:\n",
    "            break\n",
    "        \n",
    "        # Otherwise add it to our list and continue\n",
    "        nums.append(new_num)\n",
    "    \n",
    "    return nums\n",
    "\n",
    "# Test the function with a maximum value of 100\n",
    "print(fibonacci_numbers(100))"
   ]
  },
  {
   "cell_type": "code",
   "execution_count": null,
   "id": "5a52ffce",
   "metadata": {},
   "outputs": [],
   "source": []
  }
 ],
 "metadata": {
  "kernelspec": {
   "display_name": "Python 3 (ipykernel)",
   "language": "python",
   "name": "python3"
  },
  "language_info": {
   "codemirror_mode": {
    "name": "ipython",
    "version": 3
   },
   "file_extension": ".py",
   "mimetype": "text/x-python",
   "name": "python",
   "nbconvert_exporter": "python",
   "pygments_lexer": "ipython3",
   "version": "3.11.5"
  }
 },
 "nbformat": 4,
 "nbformat_minor": 5
}
