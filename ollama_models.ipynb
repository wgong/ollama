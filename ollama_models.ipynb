{
 "cells": [
  {
   "cell_type": "code",
   "execution_count": 1,
   "id": "618c80b6",
   "metadata": {},
   "outputs": [
    {
     "name": "stdout",
     "output_type": "stream",
     "text": [
      "Name: python-dateutil\r\n",
      "Version: 2.8.2\r\n",
      "Summary: Extensions to the standard Python datetime module\r\n",
      "Home-page: https://github.com/dateutil/dateutil\r\n",
      "Author: Gustavo Niemeyer\r\n",
      "Author-email: gustavo@niemeyer.net\r\n",
      "License: Dual License\r\n",
      "Location: /home/gongai/anaconda3/lib/python3.11/site-packages\r\n",
      "Requires: six\r\n",
      "Required-by: anaconda-client, arrow, botocore, conda-repo-cli, datashape, jupyter_client, kubernetes, matplotlib, pandas, posthog, streamlit\r\n"
     ]
    }
   ],
   "source": [
    "!pip show python_dateutil"
   ]
  },
  {
   "cell_type": "code",
   "execution_count": 4,
   "id": "2ec36613",
   "metadata": {},
   "outputs": [
    {
     "name": "stdout",
     "output_type": "stream",
     "text": [
      "Requirement already satisfied: python_dateutil in /home/gongai/anaconda3/lib/python3.11/site-packages (2.8.2)\r\n",
      "Requirement already satisfied: six>=1.5 in /home/gongai/anaconda3/lib/python3.11/site-packages (from python_dateutil) (1.16.0)\r\n"
     ]
    }
   ],
   "source": [
    "!pip install python_dateutil"
   ]
  },
  {
   "cell_type": "code",
   "execution_count": 7,
   "id": "d5e0e55c",
   "metadata": {},
   "outputs": [],
   "source": [
    "from dateutil.relativedelta import relativedelta"
   ]
  },
  {
   "cell_type": "code",
   "execution_count": 15,
   "id": "ffcb5292",
   "metadata": {},
   "outputs": [
    {
     "name": "stdout",
     "output_type": "stream",
     "text": [
      "yesterday:\t 2024-01-08\n",
      "2 days ago:\t 2024-01-07\n",
      "2 weeks ago:\t 2023-12-26\n",
      "2 months ago:\t 2023-11-09\n",
      "2 years ago:\t 2022-01-09\n"
     ]
    }
   ],
   "source": [
    "import datetime\n",
    "\n",
    "def relative_date_to_date_string(relative_date):\n",
    "    \"\"\"\n",
    "    Translates a relative date phrase (e.g., \"2 months ago\") into a date string in YYYY-MM-DD format.\n",
    "\n",
    "    Args:\n",
    "        relative_date (str): The relative date phrase to translate.\n",
    "\n",
    "    Returns:\n",
    "        str: The corresponding date string in YYYY-MM-DD format, or None if the input is invalid.\n",
    "    \"\"\"\n",
    "\n",
    "    today = datetime.date.today()\n",
    "    if relative_date == \"yesterday\":\n",
    "        result = today - datetime.timedelta(days=1)        \n",
    "    else:\n",
    "        number, unit = relative_date.split()[:2]\n",
    "        number = int(number)\n",
    "\n",
    "        if unit == \"days\":\n",
    "            result = today - datetime.timedelta(days=number)\n",
    "        elif unit == \"weeks\":\n",
    "            result = today - datetime.timedelta(weeks=number)\n",
    "        elif unit == \"months\":\n",
    "            result = today - relativedelta(months=number)  # Requires the 'dateutil' library\n",
    "        elif unit == \"years\":\n",
    "            result = today - relativedelta(years=number)  # Requires the 'dateutil' library\n",
    "        else:\n",
    "            return None  # Invalid input\n",
    "\n",
    "    return result.strftime(\"%Y-%m-%d\")\n",
    "\n",
    "rel_dates = [\"yesterday\"]\n",
    "for unit in [\"days\", \"weeks\", \"months\", \"years\"]:\n",
    "    rel_dates.append(f\"2 {unit} ago\")\n",
    "    \n",
    "for x in rel_dates:\n",
    "    print(f\"{x}:\\t {relative_date_to_date_string(x)}\")"
   ]
  },
  {
   "cell_type": "code",
   "execution_count": 36,
   "id": "e0b727c6",
   "metadata": {},
   "outputs": [],
   "source": [
    "def fix_pull_count(x):\n",
    "    x = x.replace(\"Pulls\", \"\").replace(\",\", \"\").strip()\n",
    "    if x.endswith(\"K\"):\n",
    "        x = x.replace(\"K\", \"\").strip()\n",
    "        return int(float(x)*1000)\n",
    "    else:\n",
    "        return int(x)"
   ]
  },
  {
   "cell_type": "code",
   "execution_count": 37,
   "id": "5e6f6eee",
   "metadata": {},
   "outputs": [],
   "source": [
    "TEST_FLAG = True"
   ]
  },
  {
   "cell_type": "code",
   "execution_count": null,
   "id": "ed008e1f",
   "metadata": {},
   "outputs": [],
   "source": [
    "\n"
   ]
  },
  {
   "cell_type": "code",
   "execution_count": 38,
   "id": "92030c69",
   "metadata": {},
   "outputs": [
    {
     "name": "stdout",
     "output_type": "stream",
     "text": [
      "[In] \n",
      "        1,570.11K\n",
      "                Pulls\n",
      "         : \n",
      "[Out] 1570110\n",
      "[In] \n",
      "        1,570\n",
      "                Pulls\n",
      "         : \n",
      "[Out] 1570\n",
      "[In] \n",
      "        570\n",
      "                Pulls\n",
      "         : \n",
      "[Out] 570\n",
      "[In] \n",
      "        1,570K\n",
      "                Pulls\n",
      "         : \n",
      "[Out] 1570000\n",
      "[In] \n",
      "        70K\n",
      "                Pulls\n",
      "         : \n",
      "[Out] 70000\n"
     ]
    }
   ],
   "source": [
    "if TEST_FLAG:\n",
    "    test_inputs = [\n",
    "        \"\"\"\n",
    "        1,570.11K\n",
    "                Pulls\n",
    "        \"\"\",        \n",
    "        \"\"\"\n",
    "        1,570\n",
    "                Pulls\n",
    "        \"\"\",\n",
    "        \"\"\"\n",
    "        570\n",
    "                Pulls\n",
    "        \"\"\",\n",
    "        \"\"\"\n",
    "        1,570K\n",
    "                Pulls\n",
    "        \"\"\",\n",
    "        \"\"\"\n",
    "        70K\n",
    "                Pulls\n",
    "        \"\"\"\n",
    "    ]    \n",
    "    for x in test_inputs:\n",
    "        print(f\"[In] {x} : \\n[Out] {fix_pull_count(x)}\")"
   ]
  },
  {
   "cell_type": "code",
   "execution_count": null,
   "id": "413a83f2",
   "metadata": {},
   "outputs": [],
   "source": []
  }
 ],
 "metadata": {
  "kernelspec": {
   "display_name": "Python 3 (ipykernel)",
   "language": "python",
   "name": "python3"
  },
  "language_info": {
   "codemirror_mode": {
    "name": "ipython",
    "version": 3
   },
   "file_extension": ".py",
   "mimetype": "text/x-python",
   "name": "python",
   "nbconvert_exporter": "python",
   "pygments_lexer": "ipython3",
   "version": "3.11.5"
  }
 },
 "nbformat": 4,
 "nbformat_minor": 5
}
